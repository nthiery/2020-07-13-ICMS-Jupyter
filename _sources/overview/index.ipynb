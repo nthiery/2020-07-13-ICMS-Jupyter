{
 "cells": [
  {
   "cell_type": "markdown",
   "metadata": {
    "slideshow": {
     "slide_type": "slide"
    }
   },
   "source": [
    "# A brief overview of Jupyter and its ecosystem\n",
    "$\\newcommand{\\K}{\\mathbb{K}}$\n",
    "<img src=\"pictures/banner.png\" align=\"right\" width=\"55%\" style=\"opacity:0.5;filter:alpha(opacity=40);\"/>\n",
    "\n",
    "\n",
    "<img src=\"pictures/id.jpg\" width=\"10%\">\n",
    "\n",
    "Nicolas M. Thiéry<br>\n",
    "LRI, Université Paris-Sud / Saclay\n",
    "\n",
    "<!--View the live slides on binder: https://tinyurl.com/swavl3h\n",
    "<a href=\"https://mybinder.org/v2/gh/OpenDreamKit/demo-semigroup-representation-theory/master?filepath=2020-01-18-INI-implementing-semigroup-representation-theory.ipynb\">\n",
    "<img src=\"pictures/2020-01-18-INI-implementing-semigroup-representation-theory.qrcode.png\" width=\"25%\"></a>!-->\n",
    "\n",
    "<img src=\"pictures/Flag_of_Europe.svg\"   width=\"10%\" align=\"left\">\n",
    "<img src=\"pictures/odk-elected-logo.svg\" width=\"6%\" align=\"right\">"
   ]
  },
  {
   "cell_type": "markdown",
   "metadata": {
    "slideshow": {
     "slide_type": "notes"
    }
   },
   "source": [
    "```{note}\n",
    "Welcome everyone to this session about the Jupyter Environment for Computational Mathematics!*\n",
    "\n",
    "Since it appeared in 2014, Jupyter was widely adopted for interactive\n",
    "computations. There was a very fruitful collaboration\n",
    "between the computational mathematics and the Jupyter communities.\n",
    "I'll thank here the European Union for providing massive funding through\n",
    "the OpenDreamKit project. It was an awful lot of work to coordinate this\n",
    "project; but it helped a lot bringing people together and getting help\n",
    "from Research Software Engineers.\n",
    "\n",
    "I launched this session as an occasion for sharing our expertise and views\n",
    "on Jupyter, and report about all the good things and the bad things when putting it in practice.\n",
    "I hope you'll enjoy this session despite the circumstances, and am looking forward\n",
    "enlightening discussions!\n",
    "```"
   ]
  },
  {
   "cell_type": "markdown",
   "metadata": {
    "slideshow": {
     "slide_type": "slide"
    }
   },
   "source": [
    "## What's Jupyter?\n",
    "\n",
    "From [jupyter.org](https://jupyter.org): *Project Jupyter exists to develop open-source software, open-standards, and services for interactive computing across dozens of programming languages.*"
   ]
  },
  {
   "cell_type": "markdown",
   "metadata": {
    "slideshow": {
     "slide_type": "notes"
    }
   },
   "source": [
    "```{note}\n",
    "This does not sound very concrete yet, right?\n",
    "Let's start with Jupyter's flagship application:\n",
    "```"
   ]
  },
  {
   "cell_type": "markdown",
   "metadata": {
    "slideshow": {
     "slide_type": "subslide"
    }
   },
   "source": [
    "## The Jupyter Notebook\n",
    "\n",
    "Again from [jupyter.org](https://jupyter.org): *an open-source web application that allows you to create and share documents that contain live code, equations, visualizations and narrative text*"
   ]
  },
  {
   "cell_type": "markdown",
   "metadata": {
    "slideshow": {
     "slide_type": "fragment"
    }
   },
   "source": [
    "### Some use cases\n",
    "- Teaching material: [some interactive class notes in graph theory](01-ParcoursDeGraphes.ipynb)\n",
    "- Interactive slides: this is a Jupyter notebook!\n",
    "- Computer exploration log books\n",
    "- Data analysis reports\n",
    "- ..."
   ]
  },
  {
   "cell_type": "markdown",
   "metadata": {
    "slideshow": {
     "slide_type": "fragment"
    }
   },
   "source": [
    "- a good tool for **sharing reproducible interactive stories**\n",
    "- a **rich user interface** for computational systems"
   ]
  },
  {
   "cell_type": "markdown",
   "metadata": {
    "slideshow": {
     "slide_type": "subslide"
    }
   },
   "source": [
    "### Later in this session\n",
    "- Olivier: Interactive visualization of 2d zeta functions\n",
    "- Pedro: Discrete maths visualization with GAP\n",
    "- Miguel: Teaching mathematics with Jupyter"
   ]
  },
  {
   "cell_type": "markdown",
   "metadata": {
    "slideshow": {
     "slide_type": "notes"
    }
   },
   "source": [
    "```{note}\n",
    "You'll often hear complains that Jupyter notebooks tend to be messy and hard to navigate.\n",
    "That's right! Owning a typewriter does not make you Hemingway. Jupyter is no different.\n",
    "It does take training to write good stories. Also newcomers tend to abuse their new\n",
    "shiny hammer and use Jupyter as code editor, which it's not meant for.\n",
    "```"
   ]
  },
  {
   "cell_type": "markdown",
   "metadata": {
    "slideshow": {
     "slide_type": "fragment"
    }
   },
   "source": [
    "### Caveats\n",
    "- It takes *skills and practice* to write good stories; Jupyter is no different\n",
    "- Not meant as a ~~code editor~~"
   ]
  },
  {
   "cell_type": "markdown",
   "metadata": {
    "slideshow": {
     "slide_type": "slide"
    }
   },
   "source": [
    "## What's new, really, with Jupyter?"
   ]
  },
  {
   "cell_type": "markdown",
   "metadata": {
    "slideshow": {
     "slide_type": "fragment"
    }
   },
   "source": [
    "### Early 90's: Maple, Mathematica, MuPAD, ...  "
   ]
  },
  {
   "cell_type": "markdown",
   "metadata": {
    "slideshow": {
     "slide_type": "notes"
    }
   },
   "source": [
    "```{note}\n",
    "In 1994, when I started my thesis, notebooks were already common. With the same use cases and abuse and complaints. I personally was using Maple, but Mathematica and many other systems had notebooks.\n",
    "```"
   ]
  },
  {
   "cell_type": "markdown",
   "metadata": {
    "slideshow": {
     "slide_type": "fragment"
    }
   },
   "source": [
    "### Early 2000': TeXmacs, LyX  "
   ]
  },
  {
   "cell_type": "markdown",
   "metadata": {
    "slideshow": {
     "slide_type": "fragment"
    }
   },
   "source": [
    "### ~2006: SageMath"
   ]
  },
  {
   "cell_type": "markdown",
   "metadata": {
    "slideshow": {
     "slide_type": "notes"
    }
   },
   "source": [
    "```{note}\n",
    "In 2006, the SageMath notebook brought some innovations with a web-based architecture, enabling online use and sharing.\n",
    "```"
   ]
  },
  {
   "cell_type": "markdown",
   "metadata": {
    "slideshow": {
     "slide_type": "fragment"
    }
   },
   "source": [
    "### ~2008: IPython"
   ]
  },
  {
   "cell_type": "markdown",
   "metadata": {
    "slideshow": {
     "slide_type": "notes"
    }
   },
   "source": [
    "```{note}\n",
    "Then, the IPython team took the lead from there with a carefully crafted architecture and implementation.\n",
    "And then they realized, as the TeXmacs developers had done earlier, that most of the architecture was system independent. By defining a **standardized communication protocol** one could integrate any computational system that provided a *kernel* implementing that protocol. \n",
    "That was the birth of Jupyter, starting with three kernels for Julia, Python and R.\n",
    "```"
   ]
  },
  {
   "cell_type": "markdown",
   "metadata": {
    "slideshow": {
     "slide_type": "subslide"
    }
   },
   "source": [
    "### 2014-: Jupyter\n",
    "- **web-based**, **system-independent** notebook application\n",
    "- **standardized formats and communication protocols**\n",
    "- **kernels** for Julia, Python, R, and now dozens of others; even C++ or Coq!"
   ]
  },
  {
   "cell_type": "markdown",
   "metadata": {
    "slideshow": {
     "slide_type": "fragment"
    }
   },
   "source": [
    "### 2019: Jupyter Lab\n",
    "- Refactoring as a highly modular library\n",
    "- The notebook: just one of many applications built on top of this library\n",
    "- Work spaces, code editor, ..."
   ]
  },
  {
   "cell_type": "markdown",
   "metadata": {
    "slideshow": {
     "slide_type": "slide"
    }
   },
   "source": [
    "### Adoption\n",
    "- In academy and industry, notably for data science\n",
    "- Millions of Jupyter notebooks on GitHub\n",
    "- Every cloud provider offers some Jupyter service:  \n",
    "  Google Collaboratory, Azure notebooks, ...\n",
    "- Alternative implementations exploring additional features:  \n",
    "  e.g. live collaboration in CoCalc"
   ]
  },
  {
   "cell_type": "markdown",
   "metadata": {
    "slideshow": {
     "slide_type": "notes"
    }
   },
   "source": [
    "```{note}\n",
    "Now we see why jupyter focuses on open source, protocols, standards, modularity rather than on a specific applications. This paves the way for a whole community-developed ecosystem to flourish.\n",
    "```"
   ]
  },
  {
   "cell_type": "markdown",
   "metadata": {
    "slideshow": {
     "slide_type": "fragment"
    }
   },
   "source": [
    "- **A whole ecosystem of community contributed tools and extensions**"
   ]
  },
  {
   "cell_type": "markdown",
   "metadata": {
    "slideshow": {
     "slide_type": "subslide"
    }
   },
   "source": [
    "### Adoption in mathematics?\n",
    "\n",
    "- **kernels** for GAP, Oscar (Julia), Pari/GP, SageMath, Singular  \n",
    "  and all C++, Julia, Python, ... math libraries!"
   ]
  },
  {
   "cell_type": "markdown",
   "metadata": {
    "slideshow": {
     "slide_type": "fragment"
    }
   },
   "source": [
    "On Thursday:\n",
    "- Marek: new PolyMake interface through Julia\n",
    "- Jan: a new kernel for prototyping mathematical languages\n",
    "- Sebastian:  approaches for implementing new kernels"
   ]
  },
  {
   "cell_type": "markdown",
   "metadata": {
    "slideshow": {
     "slide_type": "slide"
    }
   },
   "source": [
    "## Some gems in the Jupyter ecosystem"
   ]
  },
  {
   "cell_type": "markdown",
   "metadata": {
    "slideshow": {
     "slide_type": "fragment"
    }
   },
   "source": [
    "### Authoring\n",
    "- **Jupyter Widgets**: rich interactivity and applications  \n",
    "  See Odile's presentation\n",
    "- **RISE**: interactive slides\n",
    "- **JupyterBook**: interactive online books from a collection of notebooks\n",
    "- **ThebeLab**: embedding live examples in static web pages"
   ]
  },
  {
   "cell_type": "markdown",
   "metadata": {
    "slideshow": {
     "slide_type": "fragment"
    }
   },
   "source": [
    "- **nbconvert**: convert to all sorts of formats\n",
    "- **JupyText**: when you like plain text files\n",
    "- **nbdime**: version control integration\n",
    "- **nbval**: regression testing"
   ]
  },
  {
   "cell_type": "markdown",
   "metadata": {
    "slideshow": {
     "slide_type": "subslide"
    }
   },
   "source": [
    "### Teaching\n",
    "- **nbgrader**: a tool for creating and grading assignments\n",
    "- **Cocalc**: Collaborative Calculation, with class management support"
   ]
  },
  {
   "cell_type": "markdown",
   "metadata": {
    "slideshow": {
     "slide_type": "fragment"
    }
   },
   "source": [
    "### Access\n",
    "- **JupyterHub**: online Jupyter service, e.g. at the scale of an institution"
   ]
  },
  {
   "cell_type": "markdown",
   "metadata": {
    "slideshow": {
     "slide_type": "fragment"
    }
   },
   "source": [
    "### Sharing\n",
    "- **Forges** (GitHub, GitLab) with notebook integration\n",
    "- **SoftwareHeritage**: long term archival\n",
    "- **nbviewer**: online preview\n",
    "- **Binder**: service to run notebooks online with arbitrary dependencies"
   ]
  },
  {
   "cell_type": "markdown",
   "metadata": {
    "slideshow": {
     "slide_type": "slide"
    }
   },
   "source": [
    "## Take home message / personal view on Jupyter"
   ]
  },
  {
   "cell_type": "markdown",
   "metadata": {
    "slideshow": {
     "slide_type": "notes"
    }
   },
   "source": [
    "```{note}\n",
    "To conclude, let me try to summarize, in my view, what are the main Pros and Cons of Jupyter.\n",
    "```"
   ]
  },
  {
   "cell_type": "markdown",
   "metadata": {
    "slideshow": {
     "slide_type": "fragment"
    }
   },
   "source": [
    "Pros:\n",
    "- Rich user interfaces for interactive computing\n",
    "- A vivid fast moving ecosystem\n",
    "- Adopted by millions in all areas of computational sciences\n",
    "- Adopted by many popular mathematical systems  \n",
    "- Versatility and smooth learning curve"
   ]
  },
  {
   "cell_type": "markdown",
   "metadata": {
    "slideshow": {
     "slide_type": "notes"
    }
   },
   "source": [
    "```{note}\n",
    "First comes the wide adoption in all areas of computational sciences, including Mathematics.\n",
    "With as corollary, a fast moving ecosystem of tools.\n",
    "Then comes the versatility. At first, you just read and play with existing notebooks; or use them as advanced pocket calculator. And then you move on to authoring and sharing your own stories. As you gain confidence, you make your stories more interactive with widgets. Taylor the tool to your needs. Design mini-applications. And share everything with your less advanced colleagues. This smooth learning curve lower the barrier between users and developers. And also between systems.\n",
    "```"
   ]
  },
  {
   "cell_type": "markdown",
   "metadata": {
    "slideshow": {
     "slide_type": "notes"
    }
   },
   "source": [
    "```{note}\n",
    "Now, certainly not everything is perfect. Did I mention the fast moving ecosystem?\n",
    "```"
   ]
  },
  {
   "cell_type": "markdown",
   "metadata": {
    "slideshow": {
     "slide_type": "fragment"
    }
   },
   "source": [
    "Cons:\n",
    "- A fast moving ecosystem\n",
    "- More advanced contributions require more advanced skills (e.g web technologies)"
   ]
  },
  {
   "cell_type": "markdown",
   "metadata": {
    "slideshow": {
     "slide_type": "notes"
    }
   },
   "source": [
    "```{note}\n",
    "Well, this can be tough to newcomers who can easily get lost; especially when everyone around uses his own favorite combination of tools from the ecosystem.\n",
    "In addition there is some complexity built into the architecture with Javascript on the browser side talking with Python on the server side. More advanced contributions, like integrating some cool Javascript library, require familiarity with web technologies which is a whole new world for most computational mathematicians, like me.\n",
    "```"
   ]
  },
  {
   "cell_type": "markdown",
   "metadata": {
    "slideshow": {
     "slide_type": "notes"
    }
   },
   "source": [
    "```{note}\n",
    "This concludes my little overview of the Jupyter ecosystem. Thanks for listening. I hope you'll enjoy the session and am looking forward further discussions!\n",
    "```"
   ]
  }
 ],
 "metadata": {
  "celltoolbar": "Diaporama",
  "kernelspec": {
   "display_name": "SageMath 9.0",
   "language": "sage",
   "name": "sagemath"
  },
  "language_info": {
   "codemirror_mode": {
    "name": "ipython",
    "version": 3
   },
   "file_extension": ".py",
   "mimetype": "text/x-python",
   "name": "python",
   "nbconvert_exporter": "python",
   "pygments_lexer": "ipython3",
   "version": "3.7.3"
  },
  "rise": {
   "autolaunch": true,
   "start_slideshow_at": "selected",
   "transition": "none"
  },
  "toc": {
   "base_numbering": 1,
   "nav_menu": {},
   "number_sections": true,
   "sideBar": true,
   "skip_h1_title": false,
   "title_cell": "Table of Contents",
   "title_sidebar": "Contents",
   "toc_cell": false,
   "toc_position": {},
   "toc_section_display": true,
   "toc_window_display": false
  },
  "varInspector": {
   "cols": {
    "lenName": 16,
    "lenType": 16,
    "lenVar": 40
   },
   "kernels_config": {
    "0": "{",
    "1": " ",
    "10": "'",
    "100": "e",
    "101": "l",
    "102": "e",
    "103": "t",
    "104": "e",
    "105": "_",
    "106": "c",
    "107": "m",
    "108": "d",
    "109": "_",
    "11": ":",
    "110": "p",
    "111": "o",
    "112": "s",
    "113": "t",
    "114": "f",
    "115": "i",
    "116": "x",
    "117": ":",
    "118": " ",
    "119": "'",
    "12": " ",
    "120": "'",
    "121": ",",
    "122": " ",
    "123": " ",
    "124": " ",
    "125": " ",
    "126": " ",
    "127": " ",
    "128": " ",
    "129": " ",
    "13": "{",
    "130": " ",
    "131": " ",
    "132": " ",
    "133": " ",
    "134": "v",
    "135": "a",
    "136": "r",
    "137": "R",
    "138": "e",
    "139": "f",
    "14": " ",
    "140": "r",
    "141": "e",
    "142": "s",
    "143": "h",
    "144": "C",
    "145": "m",
    "146": "d",
    "147": ":",
    "148": " ",
    "149": "'",
    "15": " ",
    "150": "p",
    "151": "r",
    "152": "i",
    "153": "n",
    "154": "t",
    "155": "(",
    "156": "v",
    "157": "a",
    "158": "r",
    "159": "_",
    "16": " ",
    "160": "d",
    "161": "i",
    "162": "c",
    "163": "_",
    "164": "l",
    "165": "i",
    "166": "s",
    "167": "t",
    "168": "(",
    "169": ")",
    "17": " ",
    "170": ")",
    "171": "'",
    "172": " ",
    "173": " ",
    "174": " ",
    "175": " ",
    "176": " ",
    "177": " ",
    "178": " ",
    "179": " ",
    "18": " ",
    "180": "}",
    "181": ",",
    "182": " ",
    "183": " ",
    "184": "'",
    "185": "r",
    "186": "'",
    "187": ":",
    "188": " ",
    "189": "{",
    "19": " ",
    "190": " ",
    "191": " ",
    "192": " ",
    "193": " ",
    "194": " ",
    "195": " ",
    "196": " ",
    "197": " ",
    "198": " ",
    "199": " ",
    "2": " ",
    "20": " ",
    "200": " ",
    "201": " ",
    "202": "l",
    "203": "i",
    "204": "b",
    "205": "r",
    "206": "a",
    "207": "r",
    "208": "y",
    "209": ":",
    "21": " ",
    "210": " ",
    "211": "'",
    "212": "v",
    "213": "a",
    "214": "r",
    "215": "_",
    "216": "l",
    "217": "i",
    "218": "s",
    "219": "t",
    "22": " ",
    "220": ".",
    "221": "r",
    "222": "'",
    "223": ",",
    "224": " ",
    "225": " ",
    "226": " ",
    "227": " ",
    "228": " ",
    "229": " ",
    "23": " ",
    "230": " ",
    "231": " ",
    "232": " ",
    "233": " ",
    "234": " ",
    "235": " ",
    "236": "d",
    "237": "e",
    "238": "l",
    "239": "e",
    "24": " ",
    "240": "t",
    "241": "e",
    "242": "_",
    "243": "c",
    "244": "m",
    "245": "d",
    "246": "_",
    "247": "p",
    "248": "r",
    "249": "e",
    "25": " ",
    "250": "f",
    "251": "i",
    "252": "x",
    "253": ":",
    "254": " ",
    "255": "'",
    "256": "r",
    "257": "m",
    "258": "(",
    "259": "'",
    "26": "l",
    "260": ",",
    "261": " ",
    "262": " ",
    "263": " ",
    "264": " ",
    "265": " ",
    "266": " ",
    "267": " ",
    "268": " ",
    "269": " ",
    "27": "i",
    "270": " ",
    "271": " ",
    "272": " ",
    "273": "d",
    "274": "e",
    "275": "l",
    "276": "e",
    "277": "t",
    "278": "e",
    "279": "_",
    "28": "b",
    "280": "c",
    "281": "m",
    "282": "d",
    "283": "_",
    "284": "p",
    "285": "o",
    "286": "s",
    "287": "t",
    "288": "f",
    "289": "i",
    "29": "r",
    "290": "x",
    "291": ":",
    "292": " ",
    "293": "'",
    "294": ")",
    "295": " ",
    "296": "'",
    "297": ",",
    "298": " ",
    "299": " ",
    "3": "'",
    "30": "a",
    "300": " ",
    "301": " ",
    "302": " ",
    "303": " ",
    "304": " ",
    "305": " ",
    "306": " ",
    "307": " ",
    "308": " ",
    "309": " ",
    "31": "r",
    "310": "v",
    "311": "a",
    "312": "r",
    "313": "R",
    "314": "e",
    "315": "f",
    "316": "r",
    "317": "e",
    "318": "s",
    "319": "h",
    "32": "y",
    "320": "C",
    "321": "m",
    "322": "d",
    "323": ":",
    "324": " ",
    "325": "'",
    "326": "c",
    "327": "a",
    "328": "t",
    "329": "(",
    "33": ":",
    "330": "v",
    "331": "a",
    "332": "r",
    "333": "_",
    "334": "d",
    "335": "i",
    "336": "c",
    "337": "_",
    "338": "l",
    "339": "i",
    "34": " ",
    "340": "s",
    "341": "t",
    "342": "(",
    "343": ")",
    "344": ")",
    "345": " ",
    "346": "'",
    "347": " ",
    "348": " ",
    "349": " ",
    "35": "'",
    "350": " ",
    "351": " ",
    "352": " ",
    "353": " ",
    "354": " ",
    "355": "}",
    "356": "}",
    "36": "v",
    "37": "a",
    "38": "r",
    "39": "_",
    "4": "p",
    "40": "l",
    "41": "i",
    "42": "s",
    "43": "t",
    "44": ".",
    "45": "p",
    "46": "y",
    "47": "'",
    "48": ",",
    "49": " ",
    "5": "y",
    "50": " ",
    "51": " ",
    "52": " ",
    "53": " ",
    "54": " ",
    "55": " ",
    "56": " ",
    "57": " ",
    "58": " ",
    "59": " ",
    "6": "t",
    "60": " ",
    "61": "d",
    "62": "e",
    "63": "l",
    "64": "e",
    "65": "t",
    "66": "e",
    "67": "_",
    "68": "c",
    "69": "m",
    "7": "h",
    "70": "d",
    "71": "_",
    "72": "p",
    "73": "r",
    "74": "e",
    "75": "f",
    "76": "i",
    "77": "x",
    "78": ":",
    "79": " ",
    "8": "o",
    "80": "'",
    "81": "d",
    "82": "e",
    "83": "l",
    "84": " ",
    "85": "'",
    "86": ",",
    "87": " ",
    "88": " ",
    "89": " ",
    "9": "n",
    "90": " ",
    "91": " ",
    "92": " ",
    "93": " ",
    "94": " ",
    "95": " ",
    "96": " ",
    "97": " ",
    "98": " ",
    "99": "d"
   },
   "types_to_exclude": [
    "module",
    "function",
    "builtin_function_or_method",
    "instance",
    "_Feature"
   ],
   "window_display": false
  }
 },
 "nbformat": 4,
 "nbformat_minor": 2
}
