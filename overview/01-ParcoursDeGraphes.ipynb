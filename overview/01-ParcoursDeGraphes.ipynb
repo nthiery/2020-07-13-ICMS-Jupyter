{
 "cells": [
  {
   "cell_type": "markdown",
   "metadata": {
    "nbgrader": {
     "grade": false,
     "grade_id": "cell-ccee3dfdd5a11682",
     "locked": true,
     "schema_version": 3,
     "solution": false,
     "task": false
    },
    "slideshow": {
     "slide_type": "slide"
    }
   },
   "source": [
    "# Étude d'un algorithme de parcours de graphes"
   ]
  },
  {
   "cell_type": "markdown",
   "metadata": {
    "nbgrader": {
     "grade": false,
     "grade_id": "cell-ed2d68bc54d324e9",
     "locked": true,
     "schema_version": 3,
     "solution": false,
     "task": false
    },
    "slideshow": {
     "slide_type": "fragment"
    }
   },
   "source": [
    "## Définitions"
   ]
  },
  {
   "cell_type": "markdown",
   "metadata": {
    "nbgrader": {
     "grade": false,
     "grade_id": "cell-aae8364f24aec79f",
     "locked": true,
     "schema_version": 3,
     "solution": false,
     "task": false
    },
    "slideshow": {
     "slide_type": "fragment"
    }
   },
   "source": [
    "Soit $G$ un graphe.\n",
    "\n",
    "- un *chemin* est une suite de sommets $(v_0, v_1, v_2, ...)$ tel qu'il existe une arête entre chaque paire de sommets $v_i$ et $v_{i+1}$\n",
    "\n",
    "- la *distance* entre deux sommets $u$ et $v$ est la longueur du plus court chemin entre $u$ et $v$ (ou la somme des poids des arêtes).\n",
    "\n",
    "- On suppose ici que $G$ est non orienté. La *composante connexe* d'un sommet $u$ de $G$ est l'ensemble des sommets atteignables depuis $u$ en suivant un chemin dans $G$."
   ]
  },
  {
   "cell_type": "markdown",
   "metadata": {
    "nbgrader": {
     "grade": false,
     "grade_id": "cell-ac97467184074185",
     "locked": true,
     "schema_version": 3,
     "solution": false,
     "task": false
    },
    "slideshow": {
     "slide_type": "slide"
    }
   },
   "source": [
    "## L'algorithme"
   ]
  },
  {
   "cell_type": "markdown",
   "metadata": {
    "nbgrader": {
     "grade": false,
     "grade_id": "cell-ef9eaf0a20c498d9",
     "locked": true,
     "schema_version": 3,
     "solution": false,
     "task": false
    },
    "slideshow": {
     "slide_type": "slide"
    }
   },
   "source": [
    "L'objectif de cette feuille est d'étudier l'algorithme suivant:"
   ]
  },
  {
   "cell_type": "code",
   "execution_count": 1,
   "metadata": {
    "nbgrader": {
     "grade": false,
     "grade_id": "cell-73c37b70b97f28a5",
     "locked": true,
     "schema_version": 3,
     "solution": false,
     "task": false
    },
    "slideshow": {
     "slide_type": "fragment"
    }
   },
   "outputs": [],
   "source": [
    "def parcours(G, u):\n",
    "    \"\"\"\n",
    "    INPUT:\n",
    "    - 'G' - un graphe\n",
    "    - 'u' - un sommet du graphe\n",
    "    \n",
    "    OUTPUT: la liste des sommets `v` de `G`\n",
    "            tels qu'il existe un chemin de `u` à `v`\n",
    "    \"\"\"\n",
    "    marked = {u} # L'ensemble des sommets déjà rencontrés\n",
    "    todo   = {u} # L'ensemble des sommets déjà rencontrés, mais pas encore traités\n",
    "    \n",
    "    while todo:\n",
    "        # Invariants:\n",
    "        # - Si `v` est dans `marked`, alors il y a un chemin de `u` à `v`\n",
    "        # - Si `v` est dans `marked` et pas dans `todo`\n",
    "        #   alors tous les voisins de `v` sont dans dans `marked`\n",
    "        v = todo.pop()\n",
    "        for w in G.neighbors_out(v):\n",
    "            if w not in marked:\n",
    "                marked.add(w)\n",
    "                todo.add(w)\n",
    "    return marked"
   ]
  },
  {
   "cell_type": "markdown",
   "metadata": {
    "nbgrader": {
     "grade": false,
     "grade_id": "cell-17deab189916256c",
     "locked": true,
     "schema_version": 3,
     "solution": false,
     "task": false
    },
    "slideshow": {
     "slide_type": "subslide"
    }
   },
   "source": [
    "## Étude sur un exemple\n",
    "Nous allons commencer par étudier le comportement de cet algorithme sur le graphe suivant:"
   ]
  },
  {
   "cell_type": "code",
   "execution_count": 2,
   "metadata": {
    "slideshow": {
     "slide_type": "subslide"
    }
   },
   "outputs": [
    {
     "data": {
      "application/vnd.jupyter.widget-view+json": {
       "model_id": "d7e042b5216144b893adebc47b80672e",
       "version_major": 2,
       "version_minor": 0
      },
      "text/plain": [
       "Figure(fig_margin={'top': 60, 'bottom': 60, 'left': 60, 'right': 60}, layout=Layout(height='400px', width='400…"
      ]
     },
     "metadata": {},
     "output_type": "display_data"
    }
   ],
   "source": [
    "from graph import examples\n",
    "G = examples.parcours_directed()\n",
    "G.show()"
   ]
  },
  {
   "cell_type": "markdown",
   "metadata": {
    "nbgrader": {
     "grade": false,
     "grade_id": "cell-f767fd72662d19e5",
     "locked": true,
     "schema_version": 3,
     "solution": false,
     "task": false
    },
    "slideshow": {
     "slide_type": "subslide"
    }
   },
   "source": [
    "**Note:** Si votre classe `Graph` n'est pas au point, remplacez `graph` par `graph_networkx` ci-dessus."
   ]
  },
  {
   "cell_type": "markdown",
   "metadata": {
    "nbgrader": {
     "grade": false,
     "grade_id": "cell-2af874cc82c7b754",
     "locked": true,
     "schema_version": 3,
     "solution": false,
     "task": false
    }
   },
   "source": [
    "**Exercice**\n",
    "- Copiez le graphe ci-dessus sur une feuille de papier;\n",
    "- Uniquement en consultant la documentation, prédire quel devrait être le résultat de l'algorithme appliqué au graphe ci-dessus avec `u=\"D\"`;\n",
    "- Vérifiez en exécutant la fonction `parcours` ci-dessous."
   ]
  },
  {
   "cell_type": "code",
   "execution_count": 3,
   "metadata": {
    "nbgrader": {
     "grade": false,
     "grade_id": "cell-c7f16a80382e4274",
     "locked": false,
     "schema_version": 3,
     "solution": true,
     "task": false
    }
   },
   "outputs": [
    {
     "data": {
      "text/plain": [
       "{'D', 'F', 'G', 'H'}"
      ]
     },
     "execution_count": 3,
     "metadata": {},
     "output_type": "execute_result"
    }
   ],
   "source": [
    "### BEGIN SOLUTION\n",
    "parcours(G, \"D\")\n",
    "### END SOLUTION"
   ]
  },
  {
   "cell_type": "markdown",
   "metadata": {
    "nbgrader": {
     "grade": false,
     "grade_id": "cell-59f5a82baa8c62f1",
     "locked": true,
     "schema_version": 3,
     "solution": false,
     "task": false
    }
   },
   "source": [
    "## Visualisation"
   ]
  },
  {
   "cell_type": "markdown",
   "metadata": {
    "nbgrader": {
     "grade": false,
     "grade_id": "cell-398990d2b682d2a7",
     "locked": true,
     "schema_version": 3,
     "solution": false,
     "task": false
    }
   },
   "source": [
    "Nous allons maintenant visualiser l'exécution de notre algorithme. Pour cela, nous allons:\n",
    "1. instrumenter le code en insérant des observations des variables locales aux endroits clé (comme lorsque l'on débogue avec `print`)\n",
    "2. définir une visualisation de ses variables locales\n",
    "\n",
    "Exécutez les cellules ci-dessous, jusqu'à l'appel à la fonction `parcours`, puis jouez avec la «télécommande» pour exécuter le code pas à pas, revenir en arrière, etc.\n",
    "\n",
    "Note: il y a encore deux boggues: la marche arrière en continu ne fonctionne pas et les valeurs ne sont mises à jour que en pas à pas."
   ]
  },
  {
   "cell_type": "code",
   "execution_count": 4,
   "metadata": {
    "nbgrader": {
     "grade": false,
     "grade_id": "cell-4d1d8a9f934d9313",
     "locked": true,
     "schema_version": 3,
     "solution": false,
     "task": false
    }
   },
   "outputs": [],
   "source": [
    "import copy"
   ]
  },
  {
   "cell_type": "code",
   "execution_count": 5,
   "metadata": {
    "nbgrader": {
     "grade": false,
     "grade_id": "cell-b77ea9ac5df0a877",
     "locked": true,
     "schema_version": 3,
     "solution": false,
     "task": false
    }
   },
   "outputs": [],
   "source": [
    "def parcours_visualisation(G, u):\n",
    "    \"\"\"\n",
    "    INPUT:\n",
    "    - 'G' - un graphe\n",
    "    - 'u' - un sommet du graphe\n",
    "    \n",
    "    OUTPUT: la liste des sommets `v` de `G`\n",
    "            tels qu'il existe un chemin de `u` à `v`\n",
    "    \"\"\"\n",
    "    marked = {u} # L'ensemble des sommets déjà rencontrés\n",
    "    todo   = {u} # L'ensemble des sommets déjà rencontrés, mais pas encore traités\n",
    "    \n",
    "    player.player.reset(copy.deepcopy(locals()))\n",
    "    \n",
    "    while todo:\n",
    "        # Invariants:\n",
    "        # - Si `v` est dans `marked`, alors il y a un chemin de `u` à `v`\n",
    "        # - Si `v` est dans `marked` et pas dans `todo`\n",
    "        #   alors tous les voisins de `v` sont dans dans `marked`\n",
    "        v = todo.pop()\n",
    "        # Observation des variables locales\n",
    "        player.set_value(copy.deepcopy(locals()))\n",
    "        for w in G.neighbors_out(v):\n",
    "            if w not in marked:\n",
    "                marked.add(w)\n",
    "                todo.add(w)\n",
    "                # Observation des variables locales\n",
    "                player.set_value(copy.deepcopy(locals()))\n",
    "        v = None\n",
    "        # Observation des variables locales\n",
    "        player.set_value(copy.deepcopy(locals()))\n",
    "    return marked"
   ]
  },
  {
   "cell_type": "code",
   "execution_count": 6,
   "metadata": {
    "nbgrader": {
     "grade": false,
     "grade_id": "cell-ddf0b04bb2d33451",
     "locked": true,
     "schema_version": 3,
     "solution": false,
     "task": false
    }
   },
   "outputs": [
    {
     "data": {
      "application/vnd.jupyter.widget-view+json": {
       "model_id": "0258cd321c3a4863ad2327e2d75e9211",
       "version_major": 2,
       "version_minor": 0
      },
      "text/plain": [
       "PlayerView(children=(GraphAlgorithmView(children=(Figure(fig_margin={'top': 60, 'bottom': 60, 'left': 60, 'rig…"
      ]
     },
     "metadata": {},
     "output_type": "display_data"
    }
   ],
   "source": [
    "import graph_algorithm_player\n",
    "variables = [{'name':'marked', 'type':'list', 'color': 'green'},\n",
    "             {'name':'todo',   'type':'list', 'color': 'red'},\n",
    "             {'name':'v',      'type':'node', 'color': 'yellow'}]\n",
    "player = graph_algorithm_player.GraphAlgorithmPlayer(G, variables=variables)\n",
    "player"
   ]
  },
  {
   "cell_type": "code",
   "execution_count": 7,
   "metadata": {
    "nbgrader": {
     "grade": false,
     "grade_id": "cell-c53b8540b921c69e",
     "locked": true,
     "schema_version": 3,
     "solution": false,
     "task": false
    }
   },
   "outputs": [
    {
     "data": {
      "text/plain": [
       "{'A', 'B', 'C', 'D', 'F', 'G', 'H'}"
      ]
     },
     "execution_count": 7,
     "metadata": {},
     "output_type": "execute_result"
    }
   ],
   "source": [
    "parcours_visualisation(G, \"A\")"
   ]
  },
  {
   "cell_type": "markdown",
   "metadata": {
    "nbgrader": {
     "grade": false,
     "grade_id": "cell-13cd85307a1b10d3",
     "locked": true,
     "schema_version": 3,
     "solution": false,
     "task": false
    }
   },
   "source": [
    "## Analyse théorique et invariants"
   ]
  },
  {
   "cell_type": "markdown",
   "metadata": {
    "nbgrader": {
     "grade": false,
     "grade_id": "cell-1de49020d90d7772",
     "locked": true,
     "schema_version": 3,
     "solution": false,
     "task": false
    }
   },
   "source": [
    "**Exercice**: Complexité\n",
    "\n",
    "Majorer la complexité de l'algorithme. Pour cela, choisir un *modèle de complexité*: opération(s) élémentaires et métrique(s) pour la taille des données en entrée. Puis considérer combien de fois chaque sommet est manipulé, combien de fois chaque arête est manipulée. Donner votre réponse ci-dessous."
   ]
  },
  {
   "cell_type": "markdown",
   "metadata": {
    "nbgrader": {
     "grade": true,
     "grade_id": "cell-9b0cbefe30ca5009",
     "locked": false,
     "points": 2,
     "schema_version": 3,
     "solution": true,
     "task": false
    }
   },
   "source": []
  },
  {
   "cell_type": "markdown",
   "metadata": {
    "nbgrader": {
     "grade": false,
     "grade_id": "cell-471de1d0f2917ac8",
     "locked": true,
     "schema_version": 3,
     "solution": false,
     "task": false
    }
   },
   "source": [
    "L'exercice précédent a confirmé qu'il s'agissait bien d'un algorithme: il termine en un temps fini. Il reste à démontrer qu'il est correct."
   ]
  },
  {
   "cell_type": "markdown",
   "metadata": {
    "nbgrader": {
     "grade": false,
     "grade_id": "cell-08521a9de48faa86",
     "locked": true,
     "schema_version": 3,
     "solution": false,
     "task": false
    }
   },
   "source": [
    "Vous avez remarqué les *invariants* marqués en commentaires dans le code. Ce sont des propriétés qui sont sensées être vérifiées à toutes les itérations de la boucle."
   ]
  },
  {
   "cell_type": "markdown",
   "metadata": {
    "nbgrader": {
     "grade": false,
     "grade_id": "cell-f7a916021445d22e",
     "locked": true,
     "schema_version": 3,
     "solution": false,
     "task": false
    }
   },
   "source": [
    "**Exercice** Preuve de correction\n",
    "\n",
    "1. Vérifiez que les invariants sont respectés à l'initialisation\n",
    "2. Vérifiez que, à chaque itération de la boucle while, si les invariants sont respectés au début de l'itération, alors ils le sont encore à la fin\n",
    "3. Qu'en déduisez vous par récurence?\n",
    "4. Concluez en montrant que, s'il y a un chemin de `u` à `v`, alors `v` est dans `marked` à la fin de l'exécution de l'algorithme"
   ]
  },
  {
   "cell_type": "markdown",
   "metadata": {
    "nbgrader": {
     "grade": true,
     "grade_id": "cell-ec7a47d5d820e1fb",
     "locked": false,
     "points": 0,
     "schema_version": 3,
     "solution": true,
     "task": false
    }
   },
   "source": []
  },
  {
   "cell_type": "markdown",
   "metadata": {
    "nbgrader": {
     "grade": false,
     "grade_id": "cell-5dbfbfd82f6bfb1a",
     "locked": true,
     "schema_version": 3,
     "solution": false,
     "task": false
    }
   },
   "source": [
    "## Conclusion\n",
    "\n",
    "Dans cette feuille, nous avons étudié un algorithme au moyen de deux outils:\n",
    "- L'instrumentation du code pour observer visuellement son exécution\n",
    "- Les invariants pour démontrer la correction de l'algorithme\n",
    "\n",
    "Nous utiliserons systématiquement ces outils dans la suite du cours.\n",
    "\n",
    "Les invariants sont des outils très puissants pour le programmeur. Ils jouent le même rôle que les hypothèses de récurences dans les démonstrations. Ils permettent de se convaincre après coup que les programmes sont corrects. Au moins aussi important, ce sont des guides précieux sur lesquels s'appuyer au moment de la programmation elle même. En fait, bien souvent, une fois que l'on a choisis ses invariants, l'écriture du programme est quasiment imposée.\n",
    "\n",
    "**Recommandations**:\n",
    "- Écrivez vos programmes dans l'ordre suivant: documentation, tests, invariants, puis seulement code.\n",
    "\n",
    "  C'est l'analogue exact de la démarche en mathématiques: énoncé du théorème, exemples, hypothèse de récurence, reste de la preuve.\n",
    "\n",
    "- Dans l'exemple ci-dessus, les invariants étaient écrits dans des commentaires. Lisibles par l'homme, donc, mais inexploitable par la machine. Chaque fois que possible, exprimez vos invariants sous une forme *exécutable* tout en restant *lisible*. Cela se fait typiquement avec:\n",
    "\n",
    "      assert ...\n",
    "    \n",
    "  Dans la phase de mise au point, cette forme permet de vérifier systématiquement les invariants, et d'arêter l'exécution du programme le plus tôt possible en cas de problème. Lors de la mise en production, il est possible de désactiver la vérification des asserts (option -O en Python) pour ne pas pénaliser la vitesse d'exécution."
   ]
  }
 ],
 "metadata": {
  "celltoolbar": "Create Assignment",
  "kernelspec": {
   "display_name": "Python 3",
   "language": "python",
   "name": "python3"
  },
  "language_info": {
   "codemirror_mode": {
    "name": "ipython",
    "version": 3
   },
   "file_extension": ".py",
   "mimetype": "text/x-python",
   "name": "python",
   "nbconvert_exporter": "python",
   "pygments_lexer": "ipython3",
   "version": "3.7.3"
  },
  "toc": {
   "base_numbering": 1,
   "nav_menu": {},
   "number_sections": true,
   "sideBar": true,
   "skip_h1_title": false,
   "title_cell": "Table of Contents",
   "title_sidebar": "Contents",
   "toc_cell": false,
   "toc_position": {},
   "toc_section_display": true,
   "toc_window_display": false
  },
  "varInspector": {
   "cols": {
    "lenName": 16,
    "lenType": 16,
    "lenVar": 40
   },
   "kernels_config": {
    "0": "{",
    "1": " ",
    "10": "'",
    "100": "e",
    "101": "l",
    "102": "e",
    "103": "t",
    "104": "e",
    "105": "_",
    "106": "c",
    "107": "m",
    "108": "d",
    "109": "_",
    "11": ":",
    "110": "p",
    "111": "o",
    "112": "s",
    "113": "t",
    "114": "f",
    "115": "i",
    "116": "x",
    "117": ":",
    "118": " ",
    "119": "'",
    "12": " ",
    "120": "'",
    "121": ",",
    "122": " ",
    "123": " ",
    "124": " ",
    "125": " ",
    "126": " ",
    "127": " ",
    "128": " ",
    "129": " ",
    "13": "{",
    "130": " ",
    "131": " ",
    "132": " ",
    "133": " ",
    "134": "v",
    "135": "a",
    "136": "r",
    "137": "R",
    "138": "e",
    "139": "f",
    "14": " ",
    "140": "r",
    "141": "e",
    "142": "s",
    "143": "h",
    "144": "C",
    "145": "m",
    "146": "d",
    "147": ":",
    "148": " ",
    "149": "'",
    "15": " ",
    "150": "p",
    "151": "r",
    "152": "i",
    "153": "n",
    "154": "t",
    "155": "(",
    "156": "v",
    "157": "a",
    "158": "r",
    "159": "_",
    "16": " ",
    "160": "d",
    "161": "i",
    "162": "c",
    "163": "_",
    "164": "l",
    "165": "i",
    "166": "s",
    "167": "t",
    "168": "(",
    "169": ")",
    "17": " ",
    "170": ")",
    "171": "'",
    "172": " ",
    "173": " ",
    "174": " ",
    "175": " ",
    "176": " ",
    "177": " ",
    "178": " ",
    "179": " ",
    "18": " ",
    "180": "}",
    "181": ",",
    "182": " ",
    "183": " ",
    "184": "'",
    "185": "r",
    "186": "'",
    "187": ":",
    "188": " ",
    "189": "{",
    "19": " ",
    "190": " ",
    "191": " ",
    "192": " ",
    "193": " ",
    "194": " ",
    "195": " ",
    "196": " ",
    "197": " ",
    "198": " ",
    "199": " ",
    "2": " ",
    "20": " ",
    "200": " ",
    "201": " ",
    "202": "l",
    "203": "i",
    "204": "b",
    "205": "r",
    "206": "a",
    "207": "r",
    "208": "y",
    "209": ":",
    "21": " ",
    "210": " ",
    "211": "'",
    "212": "v",
    "213": "a",
    "214": "r",
    "215": "_",
    "216": "l",
    "217": "i",
    "218": "s",
    "219": "t",
    "22": " ",
    "220": ".",
    "221": "r",
    "222": "'",
    "223": ",",
    "224": " ",
    "225": " ",
    "226": " ",
    "227": " ",
    "228": " ",
    "229": " ",
    "23": " ",
    "230": " ",
    "231": " ",
    "232": " ",
    "233": " ",
    "234": " ",
    "235": " ",
    "236": "d",
    "237": "e",
    "238": "l",
    "239": "e",
    "24": " ",
    "240": "t",
    "241": "e",
    "242": "_",
    "243": "c",
    "244": "m",
    "245": "d",
    "246": "_",
    "247": "p",
    "248": "r",
    "249": "e",
    "25": " ",
    "250": "f",
    "251": "i",
    "252": "x",
    "253": ":",
    "254": " ",
    "255": "'",
    "256": "r",
    "257": "m",
    "258": "(",
    "259": "'",
    "26": "l",
    "260": ",",
    "261": " ",
    "262": " ",
    "263": " ",
    "264": " ",
    "265": " ",
    "266": " ",
    "267": " ",
    "268": " ",
    "269": " ",
    "27": "i",
    "270": " ",
    "271": " ",
    "272": " ",
    "273": "d",
    "274": "e",
    "275": "l",
    "276": "e",
    "277": "t",
    "278": "e",
    "279": "_",
    "28": "b",
    "280": "c",
    "281": "m",
    "282": "d",
    "283": "_",
    "284": "p",
    "285": "o",
    "286": "s",
    "287": "t",
    "288": "f",
    "289": "i",
    "29": "r",
    "290": "x",
    "291": ":",
    "292": " ",
    "293": "'",
    "294": ")",
    "295": " ",
    "296": "'",
    "297": ",",
    "298": " ",
    "299": " ",
    "3": "'",
    "30": "a",
    "300": " ",
    "301": " ",
    "302": " ",
    "303": " ",
    "304": " ",
    "305": " ",
    "306": " ",
    "307": " ",
    "308": " ",
    "309": " ",
    "31": "r",
    "310": "v",
    "311": "a",
    "312": "r",
    "313": "R",
    "314": "e",
    "315": "f",
    "316": "r",
    "317": "e",
    "318": "s",
    "319": "h",
    "32": "y",
    "320": "C",
    "321": "m",
    "322": "d",
    "323": ":",
    "324": " ",
    "325": "'",
    "326": "c",
    "327": "a",
    "328": "t",
    "329": "(",
    "33": ":",
    "330": "v",
    "331": "a",
    "332": "r",
    "333": "_",
    "334": "d",
    "335": "i",
    "336": "c",
    "337": "_",
    "338": "l",
    "339": "i",
    "34": " ",
    "340": "s",
    "341": "t",
    "342": "(",
    "343": ")",
    "344": ")",
    "345": " ",
    "346": "'",
    "347": " ",
    "348": " ",
    "349": " ",
    "35": "'",
    "350": " ",
    "351": " ",
    "352": " ",
    "353": " ",
    "354": " ",
    "355": "}",
    "356": "}",
    "36": "v",
    "37": "a",
    "38": "r",
    "39": "_",
    "4": "p",
    "40": "l",
    "41": "i",
    "42": "s",
    "43": "t",
    "44": ".",
    "45": "p",
    "46": "y",
    "47": "'",
    "48": ",",
    "49": " ",
    "5": "y",
    "50": " ",
    "51": " ",
    "52": " ",
    "53": " ",
    "54": " ",
    "55": " ",
    "56": " ",
    "57": " ",
    "58": " ",
    "59": " ",
    "6": "t",
    "60": " ",
    "61": "d",
    "62": "e",
    "63": "l",
    "64": "e",
    "65": "t",
    "66": "e",
    "67": "_",
    "68": "c",
    "69": "m",
    "7": "h",
    "70": "d",
    "71": "_",
    "72": "p",
    "73": "r",
    "74": "e",
    "75": "f",
    "76": "i",
    "77": "x",
    "78": ":",
    "79": " ",
    "8": "o",
    "80": "'",
    "81": "d",
    "82": "e",
    "83": "l",
    "84": " ",
    "85": "'",
    "86": ",",
    "87": " ",
    "88": " ",
    "89": " ",
    "9": "n",
    "90": " ",
    "91": " ",
    "92": " ",
    "93": " ",
    "94": " ",
    "95": " ",
    "96": " ",
    "97": " ",
    "98": " ",
    "99": "d"
   },
   "types_to_exclude": [
    "module",
    "function",
    "builtin_function_or_method",
    "instance",
    "_Feature"
   ],
   "window_display": false
  }
 },
 "nbformat": 4,
 "nbformat_minor": 4
}
